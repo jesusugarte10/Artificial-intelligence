{
  "nbformat": 4,
  "nbformat_minor": 0,
  "metadata": {
    "colab": {
      "name": "DogeCoin_prediction.ipynb",
      "provenance": [],
      "collapsed_sections": []
    },
    "kernelspec": {
      "name": "python3",
      "display_name": "Python 3"
    },
    "language_info": {
      "name": "python"
    }
  },
  "cells": [
    {
      "cell_type": "markdown",
      "metadata": {
        "id": "8JSsmaNbRs2L"
      },
      "source": [
        "#Stock Share Analysis prediciton\n",
        "#Jesus Ugarte\n",
        "#University of Central Florida"
      ]
    },
    {
      "cell_type": "code",
      "metadata": {
        "id": "nIpHP1y7Ml3r"
      },
      "source": [
        "import numpy as np \n",
        "import matplotlib.pyplot as plt\n",
        "import pandas as pd \n",
        "import pandas_datareader as web\n",
        "import datetime as dt\n",
        "from datetime import datetime\n",
        "\n",
        "from sklearn.preprocessing import MinMaxScaler\n",
        "from tensorflow.keras.models import Sequential\n",
        "from tensorflow.keras.layers import Dense, Dropout, LSTM\n"
      ],
      "execution_count": 42,
      "outputs": []
    },
    {
      "cell_type": "code",
      "metadata": {
        "id": "raPt4rRxNeBU"
      },
      "source": [
        "#Load Data\n",
        "company = 'DOGE-USD'\n",
        "\n",
        "#Load data from one year ago\n",
        "start = dt.datetime(datetime.now().year, datetime.now().month-3, 1)\n",
        "end = dt.datetime.now()\n",
        "\n",
        "data = web.DataReader(company, 'yahoo', start, end)\n"
      ],
      "execution_count": 43,
      "outputs": []
    },
    {
      "cell_type": "code",
      "metadata": {
        "id": "Ri5E_tkLNiAz"
      },
      "source": [
        "\n",
        "#Prepare Data\n",
        "#Fit all Data into 0 and 1 \n",
        "scaler = MinMaxScaler(feature_range=(0,1))\n",
        "scaled_data = scaler.fit_transform(data['Close'].values.reshape(-1,1))\n",
        "\n"
      ],
      "execution_count": 44,
      "outputs": []
    },
    {
      "cell_type": "code",
      "metadata": {
        "id": "8bSXtl0xNmUt"
      },
      "source": [
        "#Define how many days look into the past to base my prediction\n",
        "prediction_days = 60\n",
        "\n",
        "x_train =[]\n",
        "y_train = []\n",
        "\n",
        "for x in range(prediction_days, len(scaled_data)):\n",
        "    x_train.append(scaled_data[x - prediction_days:x , 0])\n",
        "    y_train.append(scaled_data[x, 0])\n",
        "\n",
        "x_train, y_train, = np.array(x_train), np.array(y_train)\n",
        "x_train = np.reshape(x_train, (x_train.shape[0], x_train.shape[1], 1))\n",
        "\n",
        "#Build the Model\n",
        "model = Sequential()\n"
      ],
      "execution_count": 45,
      "outputs": []
    },
    {
      "cell_type": "code",
      "metadata": {
        "colab": {
          "base_uri": "https://localhost:8080/"
        },
        "id": "PmtVcqVxNouK",
        "outputId": "ac84beb2-9ca2-4972-eb94-9cf648d75d42"
      },
      "source": [
        "\n",
        "\n",
        "#BUILDING MODEL\n",
        "#Parameters can be changed for bettter or worse performance\n",
        "model.add(LSTM(units=50, return_sequences = True, input_shape =(x_train.shape[1], 1)))\n",
        "model.add(Dropout(0.2))\n",
        "model.add(LSTM(units=50, return_sequences = True))\n",
        "model.add(Dropout(0.2))\n",
        "model.add(LSTM(units=50))\n",
        "model.add(Dropout(0.2))\n",
        "model.add(Dense(units=1)) #preditction of the next closing value\n",
        "\n",
        "model.compile(optimizer = 'adam', loss='mean_squared_error')\n",
        "model.fit(x_train, y_train, epochs =25, batch_size = 32)\n"
      ],
      "execution_count": 46,
      "outputs": [
        {
          "output_type": "stream",
          "text": [
            "Epoch 1/25\n",
            "2/2 [==============================] - 5s 54ms/step - loss: 0.4974\n",
            "Epoch 2/25\n",
            "2/2 [==============================] - 0s 57ms/step - loss: 0.2931\n",
            "Epoch 3/25\n",
            "2/2 [==============================] - 0s 56ms/step - loss: 0.1227\n",
            "Epoch 4/25\n",
            "2/2 [==============================] - 0s 59ms/step - loss: 0.0141\n",
            "Epoch 5/25\n",
            "2/2 [==============================] - 0s 56ms/step - loss: 0.0336\n",
            "Epoch 6/25\n",
            "2/2 [==============================] - 0s 56ms/step - loss: 0.0515\n",
            "Epoch 7/25\n",
            "2/2 [==============================] - 0s 58ms/step - loss: 0.0155\n",
            "Epoch 8/25\n",
            "2/2 [==============================] - 0s 58ms/step - loss: 0.0138\n",
            "Epoch 9/25\n",
            "2/2 [==============================] - 0s 55ms/step - loss: 0.0096\n",
            "Epoch 10/25\n",
            "2/2 [==============================] - 0s 57ms/step - loss: 0.0119\n",
            "Epoch 11/25\n",
            "2/2 [==============================] - 0s 58ms/step - loss: 0.0124\n",
            "Epoch 12/25\n",
            "2/2 [==============================] - 0s 57ms/step - loss: 0.0107\n",
            "Epoch 13/25\n",
            "2/2 [==============================] - 0s 57ms/step - loss: 0.0089\n",
            "Epoch 14/25\n",
            "2/2 [==============================] - 0s 65ms/step - loss: 0.0115\n",
            "Epoch 15/25\n",
            "2/2 [==============================] - 0s 58ms/step - loss: 0.0060\n",
            "Epoch 16/25\n",
            "2/2 [==============================] - 0s 67ms/step - loss: 0.0143\n",
            "Epoch 17/25\n",
            "2/2 [==============================] - 0s 56ms/step - loss: 0.0103\n",
            "Epoch 18/25\n",
            "2/2 [==============================] - 0s 55ms/step - loss: 0.0093\n",
            "Epoch 19/25\n",
            "2/2 [==============================] - 0s 55ms/step - loss: 0.0100\n",
            "Epoch 20/25\n",
            "2/2 [==============================] - 0s 60ms/step - loss: 0.0091\n",
            "Epoch 21/25\n",
            "2/2 [==============================] - 0s 58ms/step - loss: 0.0149\n",
            "Epoch 22/25\n",
            "2/2 [==============================] - 0s 63ms/step - loss: 0.0066\n",
            "Epoch 23/25\n",
            "2/2 [==============================] - 0s 59ms/step - loss: 0.0084\n",
            "Epoch 24/25\n",
            "2/2 [==============================] - 0s 59ms/step - loss: 0.0142\n",
            "Epoch 25/25\n",
            "2/2 [==============================] - 0s 58ms/step - loss: 0.0098\n"
          ],
          "name": "stdout"
        },
        {
          "output_type": "execute_result",
          "data": {
            "text/plain": [
              "<tensorflow.python.keras.callbacks.History at 0x7f0ed4b3dbd0>"
            ]
          },
          "metadata": {
            "tags": []
          },
          "execution_count": 46
        }
      ]
    },
    {
      "cell_type": "code",
      "metadata": {
        "id": "5HFaQRzQNqpY"
      },
      "source": [
        "\n",
        "#Testing the model accuracy on existing data\n",
        "#Load test Data\n",
        "test_start = start\n",
        "test_end = end\n",
        "test_data = data\n",
        "\n",
        "\n",
        "actual_prices = test_data['Close'].values\n",
        "total_dataset = pd.concat((data['Close'], test_data['Close']), axis =0)\n",
        "\n",
        "model_inputs = total_dataset[len(total_dataset)- len(test_data)- prediction_days:].values\n",
        "model_inputs = model_inputs.reshape(-1,1)\n",
        "model_inputs = scaler.transform(model_inputs)\n",
        "\n"
      ],
      "execution_count": 47,
      "outputs": []
    },
    {
      "cell_type": "code",
      "metadata": {
        "id": "ak4AlHvvNsUG"
      },
      "source": [
        "# Make Predictions on test Data\n",
        "\n",
        "x_test = []\n",
        "\n",
        "for x in range(prediction_days, len(model_inputs)):\n",
        "    x_test.append(model_inputs[x-prediction_days:x, 0])\n",
        "\n",
        "x_test = np.array(x_test)\n",
        "x_test =np.reshape(x_test, (x_test.shape[0], x_test.shape[1], 1))\n",
        "\n",
        "predicted_prices = model.predict(x_test)\n",
        "predicted_prices = scaler.inverse_transform(predicted_prices)\n",
        "\n"
      ],
      "execution_count": 48,
      "outputs": []
    },
    {
      "cell_type": "code",
      "metadata": {
        "colab": {
          "base_uri": "https://localhost:8080/",
          "height": 295
        },
        "id": "uFq00KQyNtbm",
        "outputId": "1df842f8-5d4e-4b9f-f931-11e683b97198"
      },
      "source": [
        "#Plot the test predicitons \n",
        "\n",
        "plt.plot(actual_prices, color=\"black\", label= f\"Actual {company} Price\")\n",
        "plt.plot(predicted_prices, color=\"green\", label= f\"Predicted {company} Price\")\n",
        "plt.title(f\"{company} Share Price\")\n",
        "plt.xlabel('Time')\n",
        "plt.ylabel(f\"{company} Share Price\")\n",
        "plt.legend()\n",
        "plt.show()"
      ],
      "execution_count": 49,
      "outputs": [
        {
          "output_type": "display_data",
          "data": {
            "image/png": "[encoded data removed]",
            "text/plain": [
              "<Figure size 432x288 with 1 Axes>"
            ]
          },
          "metadata": {
            "tags": [],
            "needs_background": "light"
          }
        }
      ]
    },
    {
      "cell_type": "code",
      "metadata": {
        "colab": {
          "base_uri": "https://localhost:8080/"
        },
        "id": "-fWU9aQoPDs2",
        "outputId": "9402b499-6746-4e5a-ee71-ca8d4f1e1a40"
      },
      "source": [
        "#Predict Next Day\n",
        "\n",
        "real_data = [model_inputs[len(model_inputs) + 1 - prediction_days:len(model_inputs+1)]]\n",
        "real_data = np.array(real_data)\n",
        "real_data = np.reshape(real_data, (real_data.shape[0], real_data.shape[1], 1))\n",
        "\n",
        "prediction = model.predict(real_data)\n",
        "\n",
        "prediction = scaler.inverse_transform(prediction)\n",
        "print(f\"prediction: {prediction} Tomorrow's Price\")"
      ],
      "execution_count": 50,
      "outputs": [
        {
          "output_type": "stream",
          "text": [
            "WARNING:tensorflow:Model was constructed with shape (None, 60, 1) for input KerasTensor(type_spec=TensorSpec(shape=(None, 60, 1), dtype=tf.float32, name='lstm_12_input'), name='lstm_12_input', description=\"created by layer 'lstm_12_input'\"), but it was called on an input with incompatible shape (None, 59, 1).\n",
            "prediction: [[0.05413247]] Tomorrow's Price\n"
          ],
          "name": "stdout"
        }
      ]
    }
  ]
}